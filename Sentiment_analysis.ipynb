{
  "cells": [
    {
      "cell_type": "code",
      "source": [
        "!pip install wordcloud"
      ],
      "metadata": {
        "colab": {
          "base_uri": "https://localhost:8080/"
        },
        "id": "5ppfVenNo7au",
        "outputId": "feb42f99-de00-41be-89e8-a1fcf873a006"
      },
      "execution_count": null,
      "outputs": [
        {
          "output_type": "stream",
          "name": "stdout",
          "text": [
            "Looking in indexes: https://pypi.org/simple, https://us-python.pkg.dev/colab-wheels/public/simple/\n",
            "Requirement already satisfied: wordcloud in /usr/local/lib/python3.7/dist-packages (1.8.2.2)\n",
            "Requirement already satisfied: pillow in /usr/local/lib/python3.7/dist-packages (from wordcloud) (7.1.2)\n",
            "Requirement already satisfied: numpy>=1.6.1 in /usr/local/lib/python3.7/dist-packages (from wordcloud) (1.21.6)\n",
            "Requirement already satisfied: matplotlib in /usr/local/lib/python3.7/dist-packages (from wordcloud) (3.2.2)\n",
            "Requirement already satisfied: cycler>=0.10 in /usr/local/lib/python3.7/dist-packages (from matplotlib->wordcloud) (0.11.0)\n",
            "Requirement already satisfied: python-dateutil>=2.1 in /usr/local/lib/python3.7/dist-packages (from matplotlib->wordcloud) (2.8.2)\n",
            "Requirement already satisfied: pyparsing!=2.0.4,!=2.1.2,!=2.1.6,>=2.0.1 in /usr/local/lib/python3.7/dist-packages (from matplotlib->wordcloud) (3.0.9)\n",
            "Requirement already satisfied: kiwisolver>=1.0.1 in /usr/local/lib/python3.7/dist-packages (from matplotlib->wordcloud) (1.4.4)\n",
            "Requirement already satisfied: typing-extensions in /usr/local/lib/python3.7/dist-packages (from kiwisolver>=1.0.1->matplotlib->wordcloud) (4.1.1)\n",
            "Requirement already satisfied: six>=1.5 in /usr/local/lib/python3.7/dist-packages (from python-dateutil>=2.1->matplotlib->wordcloud) (1.15.0)\n"
          ]
        }
      ]
    },
    {
      "cell_type": "code",
      "execution_count": null,
      "metadata": {
        "id": "MTBUYfaOwU_S"
      },
      "outputs": [],
      "source": [
        "import math\n",
        "import numpy as np\n",
        "import pandas as pd\n",
        "import matplotlib.pyplot as plt\n",
        "import seaborn as sns\n",
        "import nltk\n",
        "from nltk.corpus import stopwords\n",
        "from wordcloud import WordCloud\n",
        "from nltk.tokenize import word_tokenize\n",
        "from sklearn.feature_extraction.text import CountVectorizer\n",
        "from sklearn.model_selection import train_test_split\n",
        "from sklearn.metrics import classification_report, confusion_matrix, accuracy_score"
      ]
    },
    {
      "cell_type": "markdown",
      "source": [
        "#### Đọc dữ liệu từ file json"
      ],
      "metadata": {
        "id": "MwNFNXaSiCyM"
      }
    },
    {
      "cell_type": "code",
      "execution_count": null,
      "metadata": {
        "id": "Q2YnVCNlw-bE"
      },
      "outputs": [],
      "source": [
        "review= pd.read_json(r'review_software.json', lines= True)"
      ]
    },
    {
      "cell_type": "code",
      "execution_count": null,
      "metadata": {
        "id": "VqM9mELhAilD"
      },
      "outputs": [],
      "source": [
        "# Lưu dưới dạng file csv \n",
        "review.to_csv('review_software.csv')"
      ]
    },
    {
      "cell_type": "markdown",
      "source": [
        "#### Pre- processing\n"
      ],
      "metadata": {
        "id": "Z8T0A63ciMyg"
      }
    },
    {
      "cell_type": "code",
      "execution_count": null,
      "metadata": {
        "id": "08NnK30FcqRu",
        "colab": {
          "base_uri": "https://localhost:8080/",
          "height": 687
        },
        "outputId": "6231c8dc-f4f3-4551-c8d9-236ad3f8988f"
      },
      "outputs": [
        {
          "output_type": "execute_result",
          "data": {
            "text/plain": [
              "   overall  verified   reviewTime      reviewerID        asin  \\\n",
              "0        4      True  03 11, 2014  A240ORQ2LF9LUI  0077613252   \n",
              "1        4      True  02 23, 2014  A1YCCU0YRLS0FE  0077613252   \n",
              "2        1      True  02 17, 2014  A1BJHRQDYVAY2J  0077613252   \n",
              "3        3      True  02 17, 2014   APRDVZ6QBIQXT  0077613252   \n",
              "4        5     False  10 14, 2013  A2JZTTBSLS1QXV  0077775473   \n",
              "\n",
              "                        style         reviewerName  \\\n",
              "0  {'Format:': ' Loose Leaf'}           Michelle W   \n",
              "1  {'Format:': ' Loose Leaf'}  Rosalind White Ames   \n",
              "2  {'Format:': ' Loose Leaf'}       Allan R. Baker   \n",
              "3  {'Format:': ' Loose Leaf'}                 Lucy   \n",
              "4                         NaN            Albert V.   \n",
              "\n",
              "                                          reviewText  \\\n",
              "0  The materials arrived early and were in excell...   \n",
              "1  I am really enjoying this book with the worksh...   \n",
              "2  IF YOU ARE TAKING THIS CLASS DON\"T WASTE YOUR ...   \n",
              "3  This book was missing pages!!! Important pages...   \n",
              "4  I have used LearnSmart and can officially say ...   \n",
              "\n",
              "                         summary  unixReviewTime vote image  \n",
              "0                 Material Great      1394496000  NaN   NaN  \n",
              "1                         Health      1393113600  NaN   NaN  \n",
              "2             ARE YOU KIDING ME?      1392595200    7   NaN  \n",
              "3                missing pages!!      1392595200    3   NaN  \n",
              "4  Best study product out there!      1381708800  NaN   NaN  "
            ],
            "text/html": [
              "\n",
              "  <div id=\"df-69845fa5-ccd9-4043-a13c-f39d74f997eb\">\n",
              "    <div class=\"colab-df-container\">\n",
              "      <div>\n",
              "<style scoped>\n",
              "    .dataframe tbody tr th:only-of-type {\n",
              "        vertical-align: middle;\n",
              "    }\n",
              "\n",
              "    .dataframe tbody tr th {\n",
              "        vertical-align: top;\n",
              "    }\n",
              "\n",
              "    .dataframe thead th {\n",
              "        text-align: right;\n",
              "    }\n",
              "</style>\n",
              "<table border=\"1\" class=\"dataframe\">\n",
              "  <thead>\n",
              "    <tr style=\"text-align: right;\">\n",
              "      <th></th>\n",
              "      <th>overall</th>\n",
              "      <th>verified</th>\n",
              "      <th>reviewTime</th>\n",
              "      <th>reviewerID</th>\n",
              "      <th>asin</th>\n",
              "      <th>style</th>\n",
              "      <th>reviewerName</th>\n",
              "      <th>reviewText</th>\n",
              "      <th>summary</th>\n",
              "      <th>unixReviewTime</th>\n",
              "      <th>vote</th>\n",
              "      <th>image</th>\n",
              "    </tr>\n",
              "  </thead>\n",
              "  <tbody>\n",
              "    <tr>\n",
              "      <th>0</th>\n",
              "      <td>4</td>\n",
              "      <td>True</td>\n",
              "      <td>03 11, 2014</td>\n",
              "      <td>A240ORQ2LF9LUI</td>\n",
              "      <td>0077613252</td>\n",
              "      <td>{'Format:': ' Loose Leaf'}</td>\n",
              "      <td>Michelle W</td>\n",
              "      <td>The materials arrived early and were in excell...</td>\n",
              "      <td>Material Great</td>\n",
              "      <td>1394496000</td>\n",
              "      <td>NaN</td>\n",
              "      <td>NaN</td>\n",
              "    </tr>\n",
              "    <tr>\n",
              "      <th>1</th>\n",
              "      <td>4</td>\n",
              "      <td>True</td>\n",
              "      <td>02 23, 2014</td>\n",
              "      <td>A1YCCU0YRLS0FE</td>\n",
              "      <td>0077613252</td>\n",
              "      <td>{'Format:': ' Loose Leaf'}</td>\n",
              "      <td>Rosalind White Ames</td>\n",
              "      <td>I am really enjoying this book with the worksh...</td>\n",
              "      <td>Health</td>\n",
              "      <td>1393113600</td>\n",
              "      <td>NaN</td>\n",
              "      <td>NaN</td>\n",
              "    </tr>\n",
              "    <tr>\n",
              "      <th>2</th>\n",
              "      <td>1</td>\n",
              "      <td>True</td>\n",
              "      <td>02 17, 2014</td>\n",
              "      <td>A1BJHRQDYVAY2J</td>\n",
              "      <td>0077613252</td>\n",
              "      <td>{'Format:': ' Loose Leaf'}</td>\n",
              "      <td>Allan R. Baker</td>\n",
              "      <td>IF YOU ARE TAKING THIS CLASS DON\"T WASTE YOUR ...</td>\n",
              "      <td>ARE YOU KIDING ME?</td>\n",
              "      <td>1392595200</td>\n",
              "      <td>7</td>\n",
              "      <td>NaN</td>\n",
              "    </tr>\n",
              "    <tr>\n",
              "      <th>3</th>\n",
              "      <td>3</td>\n",
              "      <td>True</td>\n",
              "      <td>02 17, 2014</td>\n",
              "      <td>APRDVZ6QBIQXT</td>\n",
              "      <td>0077613252</td>\n",
              "      <td>{'Format:': ' Loose Leaf'}</td>\n",
              "      <td>Lucy</td>\n",
              "      <td>This book was missing pages!!! Important pages...</td>\n",
              "      <td>missing pages!!</td>\n",
              "      <td>1392595200</td>\n",
              "      <td>3</td>\n",
              "      <td>NaN</td>\n",
              "    </tr>\n",
              "    <tr>\n",
              "      <th>4</th>\n",
              "      <td>5</td>\n",
              "      <td>False</td>\n",
              "      <td>10 14, 2013</td>\n",
              "      <td>A2JZTTBSLS1QXV</td>\n",
              "      <td>0077775473</td>\n",
              "      <td>NaN</td>\n",
              "      <td>Albert V.</td>\n",
              "      <td>I have used LearnSmart and can officially say ...</td>\n",
              "      <td>Best study product out there!</td>\n",
              "      <td>1381708800</td>\n",
              "      <td>NaN</td>\n",
              "      <td>NaN</td>\n",
              "    </tr>\n",
              "  </tbody>\n",
              "</table>\n",
              "</div>\n",
              "      <button class=\"colab-df-convert\" onclick=\"convertToInteractive('df-69845fa5-ccd9-4043-a13c-f39d74f997eb')\"\n",
              "              title=\"Convert this dataframe to an interactive table.\"\n",
              "              style=\"display:none;\">\n",
              "        \n",
              "  <svg xmlns=\"http://www.w3.org/2000/svg\" height=\"24px\"viewBox=\"0 0 24 24\"\n",
              "       width=\"24px\">\n",
              "    <path d=\"M0 0h24v24H0V0z\" fill=\"none\"/>\n",
              "    <path d=\"M18.56 5.44l.94 2.06.94-2.06 2.06-.94-2.06-.94-.94-2.06-.94 2.06-2.06.94zm-11 1L8.5 8.5l.94-2.06 2.06-.94-2.06-.94L8.5 2.5l-.94 2.06-2.06.94zm10 10l.94 2.06.94-2.06 2.06-.94-2.06-.94-.94-2.06-.94 2.06-2.06.94z\"/><path d=\"M17.41 7.96l-1.37-1.37c-.4-.4-.92-.59-1.43-.59-.52 0-1.04.2-1.43.59L10.3 9.45l-7.72 7.72c-.78.78-.78 2.05 0 2.83L4 21.41c.39.39.9.59 1.41.59.51 0 1.02-.2 1.41-.59l7.78-7.78 2.81-2.81c.8-.78.8-2.07 0-2.86zM5.41 20L4 18.59l7.72-7.72 1.47 1.35L5.41 20z\"/>\n",
              "  </svg>\n",
              "      </button>\n",
              "      \n",
              "  <style>\n",
              "    .colab-df-container {\n",
              "      display:flex;\n",
              "      flex-wrap:wrap;\n",
              "      gap: 12px;\n",
              "    }\n",
              "\n",
              "    .colab-df-convert {\n",
              "      background-color: #E8F0FE;\n",
              "      border: none;\n",
              "      border-radius: 50%;\n",
              "      cursor: pointer;\n",
              "      display: none;\n",
              "      fill: #1967D2;\n",
              "      height: 32px;\n",
              "      padding: 0 0 0 0;\n",
              "      width: 32px;\n",
              "    }\n",
              "\n",
              "    .colab-df-convert:hover {\n",
              "      background-color: #E2EBFA;\n",
              "      box-shadow: 0px 1px 2px rgba(60, 64, 67, 0.3), 0px 1px 3px 1px rgba(60, 64, 67, 0.15);\n",
              "      fill: #174EA6;\n",
              "    }\n",
              "\n",
              "    [theme=dark] .colab-df-convert {\n",
              "      background-color: #3B4455;\n",
              "      fill: #D2E3FC;\n",
              "    }\n",
              "\n",
              "    [theme=dark] .colab-df-convert:hover {\n",
              "      background-color: #434B5C;\n",
              "      box-shadow: 0px 1px 3px 1px rgba(0, 0, 0, 0.15);\n",
              "      filter: drop-shadow(0px 1px 2px rgba(0, 0, 0, 0.3));\n",
              "      fill: #FFFFFF;\n",
              "    }\n",
              "  </style>\n",
              "\n",
              "      <script>\n",
              "        const buttonEl =\n",
              "          document.querySelector('#df-69845fa5-ccd9-4043-a13c-f39d74f997eb button.colab-df-convert');\n",
              "        buttonEl.style.display =\n",
              "          google.colab.kernel.accessAllowed ? 'block' : 'none';\n",
              "\n",
              "        async function convertToInteractive(key) {\n",
              "          const element = document.querySelector('#df-69845fa5-ccd9-4043-a13c-f39d74f997eb');\n",
              "          const dataTable =\n",
              "            await google.colab.kernel.invokeFunction('convertToInteractive',\n",
              "                                                     [key], {});\n",
              "          if (!dataTable) return;\n",
              "\n",
              "          const docLinkHtml = 'Like what you see? Visit the ' +\n",
              "            '<a target=\"_blank\" href=https://colab.research.google.com/notebooks/data_table.ipynb>data table notebook</a>'\n",
              "            + ' to learn more about interactive tables.';\n",
              "          element.innerHTML = '';\n",
              "          dataTable['output_type'] = 'display_data';\n",
              "          await google.colab.output.renderOutput(dataTable, element);\n",
              "          const docLink = document.createElement('div');\n",
              "          docLink.innerHTML = docLinkHtml;\n",
              "          element.appendChild(docLink);\n",
              "        }\n",
              "      </script>\n",
              "    </div>\n",
              "  </div>\n",
              "  "
            ]
          },
          "metadata": {},
          "execution_count": 135
        }
      ],
      "source": [
        "review.head()"
      ]
    },
    {
      "cell_type": "code",
      "execution_count": null,
      "metadata": {
        "id": "KRoLkLAYcszc",
        "colab": {
          "base_uri": "https://localhost:8080/"
        },
        "outputId": "eb85b3c2-15bd-4908-c664-c3c572381104"
      },
      "outputs": [
        {
          "output_type": "stream",
          "name": "stdout",
          "text": [
            "<class 'pandas.core.frame.DataFrame'>\n",
            "RangeIndex: 459436 entries, 0 to 459435\n",
            "Data columns (total 12 columns):\n",
            " #   Column          Non-Null Count   Dtype \n",
            "---  ------          --------------   ----- \n",
            " 0   overall         459436 non-null  int64 \n",
            " 1   verified        459436 non-null  bool  \n",
            " 2   reviewTime      459436 non-null  object\n",
            " 3   reviewerID      459436 non-null  object\n",
            " 4   asin            459436 non-null  object\n",
            " 5   style           234401 non-null  object\n",
            " 6   reviewerName    459412 non-null  object\n",
            " 7   reviewText      459370 non-null  object\n",
            " 8   summary         459380 non-null  object\n",
            " 9   unixReviewTime  459436 non-null  int64 \n",
            " 10  vote            127853 non-null  object\n",
            " 11  image           1508 non-null    object\n",
            "dtypes: bool(1), int64(2), object(9)\n",
            "memory usage: 39.0+ MB\n"
          ]
        }
      ],
      "source": [
        "review.info()"
      ]
    },
    {
      "cell_type": "code",
      "execution_count": null,
      "metadata": {
        "id": "WFTbNcObct90",
        "colab": {
          "base_uri": "https://localhost:8080/"
        },
        "outputId": "8a967970-2ca3-436f-c1be-b3dc3396948e"
      },
      "outputs": [
        {
          "output_type": "execute_result",
          "data": {
            "text/plain": [
              "overall                0\n",
              "verified               0\n",
              "reviewTime             0\n",
              "reviewerID             0\n",
              "asin                   0\n",
              "style             225035\n",
              "reviewerName          24\n",
              "reviewText            66\n",
              "summary               56\n",
              "unixReviewTime         0\n",
              "vote              331583\n",
              "image             457928\n",
              "dtype: int64"
            ]
          },
          "metadata": {},
          "execution_count": 137
        }
      ],
      "source": [
        "review.isna().sum()"
      ]
    },
    {
      "cell_type": "code",
      "execution_count": null,
      "metadata": {
        "id": "pffcwk5Ycum2",
        "colab": {
          "base_uri": "https://localhost:8080/"
        },
        "outputId": "b7e3a17e-eca3-4d57-971c-4e4e78f7211c"
      },
      "outputs": [
        {
          "output_type": "stream",
          "name": "stderr",
          "text": [
            "/usr/local/lib/python3.7/dist-packages/ipykernel_launcher.py:2: FutureWarning: In a future version of pandas all arguments of DataFrame.drop except for the argument 'labels' will be keyword-only\n",
            "  \n"
          ]
        }
      ],
      "source": [
        "# Xử lý missing value: Bỏ feature ['image', 'style', 'vote']\n",
        "review1=review.drop(['image','style','vote'],1)"
      ]
    },
    {
      "cell_type": "code",
      "execution_count": null,
      "metadata": {
        "id": "XPPuPgkycwcz"
      },
      "outputs": [],
      "source": [
        "#Chuyển reviewTime về kiểu dữ liệu datetime, verified -> int\n",
        "import datetime as dt\n",
        "review1['reviewTime']= pd.to_datetime(review1['reviewTime'])\n",
        "review1['verified']= review1['verified'].astype(int)"
      ]
    },
    {
      "cell_type": "code",
      "execution_count": null,
      "metadata": {
        "id": "5x4IHLGicxDv",
        "colab": {
          "base_uri": "https://localhost:8080/"
        },
        "outputId": "a1333bf7-d827-455e-915a-ac24209af8f3"
      },
      "outputs": [
        {
          "output_type": "stream",
          "name": "stdout",
          "text": [
            "<class 'pandas.core.frame.DataFrame'>\n",
            "RangeIndex: 459436 entries, 0 to 459435\n",
            "Data columns (total 9 columns):\n",
            " #   Column          Non-Null Count   Dtype         \n",
            "---  ------          --------------   -----         \n",
            " 0   overall         459436 non-null  int64         \n",
            " 1   verified        459436 non-null  int64         \n",
            " 2   reviewTime      459436 non-null  datetime64[ns]\n",
            " 3   reviewerID      459436 non-null  object        \n",
            " 4   asin            459436 non-null  object        \n",
            " 5   reviewerName    459412 non-null  object        \n",
            " 6   reviewText      459370 non-null  object        \n",
            " 7   summary         459380 non-null  object        \n",
            " 8   unixReviewTime  459436 non-null  int64         \n",
            "dtypes: datetime64[ns](1), int64(3), object(5)\n",
            "memory usage: 31.5+ MB\n"
          ]
        }
      ],
      "source": [
        "review1.info()"
      ]
    },
    {
      "cell_type": "code",
      "execution_count": null,
      "metadata": {
        "id": "hLNXT5RpczDE",
        "colab": {
          "base_uri": "https://localhost:8080/",
          "height": 485
        },
        "outputId": "47a88e34-3fb8-46b8-9214-a4fd298c3892"
      },
      "outputs": [
        {
          "output_type": "execute_result",
          "data": {
            "text/plain": [
              "   overall  verified reviewTime      reviewerID        asin  \\\n",
              "0        4         1 2014-03-11  A240ORQ2LF9LUI  0077613252   \n",
              "1        4         1 2014-02-23  A1YCCU0YRLS0FE  0077613252   \n",
              "2        1         1 2014-02-17  A1BJHRQDYVAY2J  0077613252   \n",
              "\n",
              "          reviewerName                                         reviewText  \\\n",
              "0           Michelle W  The materials arrived early and were in excell...   \n",
              "1  Rosalind White Ames  I am really enjoying this book with the worksh...   \n",
              "2       Allan R. Baker  IF YOU ARE TAKING THIS CLASS DON\"T WASTE YOUR ...   \n",
              "\n",
              "              summary  unixReviewTime  \n",
              "0      Material Great      1394496000  \n",
              "1              Health      1393113600  \n",
              "2  ARE YOU KIDING ME?      1392595200  "
            ],
            "text/html": [
              "\n",
              "  <div id=\"df-20f0c521-4a55-4b71-afac-d7a25f4a009f\">\n",
              "    <div class=\"colab-df-container\">\n",
              "      <div>\n",
              "<style scoped>\n",
              "    .dataframe tbody tr th:only-of-type {\n",
              "        vertical-align: middle;\n",
              "    }\n",
              "\n",
              "    .dataframe tbody tr th {\n",
              "        vertical-align: top;\n",
              "    }\n",
              "\n",
              "    .dataframe thead th {\n",
              "        text-align: right;\n",
              "    }\n",
              "</style>\n",
              "<table border=\"1\" class=\"dataframe\">\n",
              "  <thead>\n",
              "    <tr style=\"text-align: right;\">\n",
              "      <th></th>\n",
              "      <th>overall</th>\n",
              "      <th>verified</th>\n",
              "      <th>reviewTime</th>\n",
              "      <th>reviewerID</th>\n",
              "      <th>asin</th>\n",
              "      <th>reviewerName</th>\n",
              "      <th>reviewText</th>\n",
              "      <th>summary</th>\n",
              "      <th>unixReviewTime</th>\n",
              "    </tr>\n",
              "  </thead>\n",
              "  <tbody>\n",
              "    <tr>\n",
              "      <th>0</th>\n",
              "      <td>4</td>\n",
              "      <td>1</td>\n",
              "      <td>2014-03-11</td>\n",
              "      <td>A240ORQ2LF9LUI</td>\n",
              "      <td>0077613252</td>\n",
              "      <td>Michelle W</td>\n",
              "      <td>The materials arrived early and were in excell...</td>\n",
              "      <td>Material Great</td>\n",
              "      <td>1394496000</td>\n",
              "    </tr>\n",
              "    <tr>\n",
              "      <th>1</th>\n",
              "      <td>4</td>\n",
              "      <td>1</td>\n",
              "      <td>2014-02-23</td>\n",
              "      <td>A1YCCU0YRLS0FE</td>\n",
              "      <td>0077613252</td>\n",
              "      <td>Rosalind White Ames</td>\n",
              "      <td>I am really enjoying this book with the worksh...</td>\n",
              "      <td>Health</td>\n",
              "      <td>1393113600</td>\n",
              "    </tr>\n",
              "    <tr>\n",
              "      <th>2</th>\n",
              "      <td>1</td>\n",
              "      <td>1</td>\n",
              "      <td>2014-02-17</td>\n",
              "      <td>A1BJHRQDYVAY2J</td>\n",
              "      <td>0077613252</td>\n",
              "      <td>Allan R. Baker</td>\n",
              "      <td>IF YOU ARE TAKING THIS CLASS DON\"T WASTE YOUR ...</td>\n",
              "      <td>ARE YOU KIDING ME?</td>\n",
              "      <td>1392595200</td>\n",
              "    </tr>\n",
              "  </tbody>\n",
              "</table>\n",
              "</div>\n",
              "      <button class=\"colab-df-convert\" onclick=\"convertToInteractive('df-20f0c521-4a55-4b71-afac-d7a25f4a009f')\"\n",
              "              title=\"Convert this dataframe to an interactive table.\"\n",
              "              style=\"display:none;\">\n",
              "        \n",
              "  <svg xmlns=\"http://www.w3.org/2000/svg\" height=\"24px\"viewBox=\"0 0 24 24\"\n",
              "       width=\"24px\">\n",
              "    <path d=\"M0 0h24v24H0V0z\" fill=\"none\"/>\n",
              "    <path d=\"M18.56 5.44l.94 2.06.94-2.06 2.06-.94-2.06-.94-.94-2.06-.94 2.06-2.06.94zm-11 1L8.5 8.5l.94-2.06 2.06-.94-2.06-.94L8.5 2.5l-.94 2.06-2.06.94zm10 10l.94 2.06.94-2.06 2.06-.94-2.06-.94-.94-2.06-.94 2.06-2.06.94z\"/><path d=\"M17.41 7.96l-1.37-1.37c-.4-.4-.92-.59-1.43-.59-.52 0-1.04.2-1.43.59L10.3 9.45l-7.72 7.72c-.78.78-.78 2.05 0 2.83L4 21.41c.39.39.9.59 1.41.59.51 0 1.02-.2 1.41-.59l7.78-7.78 2.81-2.81c.8-.78.8-2.07 0-2.86zM5.41 20L4 18.59l7.72-7.72 1.47 1.35L5.41 20z\"/>\n",
              "  </svg>\n",
              "      </button>\n",
              "      \n",
              "  <style>\n",
              "    .colab-df-container {\n",
              "      display:flex;\n",
              "      flex-wrap:wrap;\n",
              "      gap: 12px;\n",
              "    }\n",
              "\n",
              "    .colab-df-convert {\n",
              "      background-color: #E8F0FE;\n",
              "      border: none;\n",
              "      border-radius: 50%;\n",
              "      cursor: pointer;\n",
              "      display: none;\n",
              "      fill: #1967D2;\n",
              "      height: 32px;\n",
              "      padding: 0 0 0 0;\n",
              "      width: 32px;\n",
              "    }\n",
              "\n",
              "    .colab-df-convert:hover {\n",
              "      background-color: #E2EBFA;\n",
              "      box-shadow: 0px 1px 2px rgba(60, 64, 67, 0.3), 0px 1px 3px 1px rgba(60, 64, 67, 0.15);\n",
              "      fill: #174EA6;\n",
              "    }\n",
              "\n",
              "    [theme=dark] .colab-df-convert {\n",
              "      background-color: #3B4455;\n",
              "      fill: #D2E3FC;\n",
              "    }\n",
              "\n",
              "    [theme=dark] .colab-df-convert:hover {\n",
              "      background-color: #434B5C;\n",
              "      box-shadow: 0px 1px 3px 1px rgba(0, 0, 0, 0.15);\n",
              "      filter: drop-shadow(0px 1px 2px rgba(0, 0, 0, 0.3));\n",
              "      fill: #FFFFFF;\n",
              "    }\n",
              "  </style>\n",
              "\n",
              "      <script>\n",
              "        const buttonEl =\n",
              "          document.querySelector('#df-20f0c521-4a55-4b71-afac-d7a25f4a009f button.colab-df-convert');\n",
              "        buttonEl.style.display =\n",
              "          google.colab.kernel.accessAllowed ? 'block' : 'none';\n",
              "\n",
              "        async function convertToInteractive(key) {\n",
              "          const element = document.querySelector('#df-20f0c521-4a55-4b71-afac-d7a25f4a009f');\n",
              "          const dataTable =\n",
              "            await google.colab.kernel.invokeFunction('convertToInteractive',\n",
              "                                                     [key], {});\n",
              "          if (!dataTable) return;\n",
              "\n",
              "          const docLinkHtml = 'Like what you see? Visit the ' +\n",
              "            '<a target=\"_blank\" href=https://colab.research.google.com/notebooks/data_table.ipynb>data table notebook</a>'\n",
              "            + ' to learn more about interactive tables.';\n",
              "          element.innerHTML = '';\n",
              "          dataTable['output_type'] = 'display_data';\n",
              "          await google.colab.output.renderOutput(dataTable, element);\n",
              "          const docLink = document.createElement('div');\n",
              "          docLink.innerHTML = docLinkHtml;\n",
              "          element.appendChild(docLink);\n",
              "        }\n",
              "      </script>\n",
              "    </div>\n",
              "  </div>\n",
              "  "
            ]
          },
          "metadata": {},
          "execution_count": 141
        }
      ],
      "source": [
        "review1.head(3)"
      ]
    },
    {
      "cell_type": "markdown",
      "source": [
        "##### Phân phối của overall trong tập dữ liệu"
      ],
      "metadata": {
        "id": "v0Y18vfviUIk"
      }
    },
    {
      "cell_type": "code",
      "execution_count": null,
      "metadata": {
        "id": "f7QCCqpoc0-w",
        "colab": {
          "base_uri": "https://localhost:8080/"
        },
        "outputId": "2c815e22-642c-4cfa-b087-acb587d4688a"
      },
      "outputs": [
        {
          "output_type": "execute_result",
          "data": {
            "text/plain": [
              "5    46.241914\n",
              "1    22.320410\n",
              "4    16.018771\n",
              "3     8.574644\n",
              "2     6.844261\n",
              "Name: overall, dtype: float64"
            ]
          },
          "metadata": {},
          "execution_count": 142
        }
      ],
      "source": [
        "rating= review['overall'].value_counts()*100/len(review['overall'])\n",
        "rating"
      ]
    },
    {
      "cell_type": "code",
      "execution_count": null,
      "metadata": {
        "id": "NKKfyBnCc1_c",
        "colab": {
          "base_uri": "https://localhost:8080/",
          "height": 265
        },
        "outputId": "19e24dc3-8b9f-4213-ef05-473bf4653e56"
      },
      "outputs": [
        {
          "output_type": "display_data",
          "data": {
            "text/plain": [
              "<Figure size 432x288 with 1 Axes>"
            ],
            "image/png": "[encoded data removed]"
          },
          "metadata": {
            "needs_background": "light"
          }
        }
      ],
      "source": [
        "plt.bar(rating.index, rating);"
      ]
    },
    {
      "cell_type": "code",
      "execution_count": null,
      "metadata": {
        "id": "Z_qm7FAdc3Ng"
      },
      "outputs": [],
      "source": [
        "df= review1[['reviewText','overall']]"
      ]
    },
    {
      "cell_type": "markdown",
      "source": [
        "Nhận xét: Các đánh giá tập trung nhiều nhất ở mức 5 với 46.24% và tiếp đến là các đánh giá ở mức 1 với 22.32%\n",
        "\n",
        "Nếu quy ước với mức độ đánh giá từ mức 3 trở lên là khách hàng tương đối hài lòng đến rất hài lòng về sản phẩm thì hiện tại chiếm khoảng $84.68\\%$ trong tổng số đánh giá cho thấy  là các sản phẩm phần mềm hiện tại đáp ứng phần nào nhu cầu của khách hàng tuy nhiên số lượng đánh giá mức 1 đang khá cao do vậy cần tìm hiểu vấn đề từ những đánh giá đó để đưa ra giải pháp khắc phục."
      ],
      "metadata": {
        "id": "5JYzzz2jqyvr"
      }
    },
    {
      "cell_type": "code",
      "execution_count": null,
      "metadata": {
        "id": "0a_PCgU-c4Yl",
        "colab": {
          "base_uri": "https://localhost:8080/"
        },
        "outputId": "a6a9eb68-5397-4da9-8dfe-104dedd10146"
      },
      "outputs": [
        {
          "output_type": "stream",
          "name": "stdout",
          "text": [
            "<class 'pandas.core.frame.DataFrame'>\n",
            "RangeIndex: 459436 entries, 0 to 459435\n",
            "Data columns (total 2 columns):\n",
            " #   Column      Non-Null Count   Dtype \n",
            "---  ------      --------------   ----- \n",
            " 0   reviewText  459370 non-null  object\n",
            " 1   overall     459436 non-null  int64 \n",
            "dtypes: int64(1), object(1)\n",
            "memory usage: 7.0+ MB\n"
          ]
        }
      ],
      "source": [
        "df.info()"
      ]
    },
    {
      "cell_type": "code",
      "execution_count": null,
      "metadata": {
        "id": "GPy0iG4nc5iG",
        "colab": {
          "base_uri": "https://localhost:8080/",
          "height": 206
        },
        "outputId": "81693da1-cafc-497d-8b58-b4874b9fbd89"
      },
      "outputs": [
        {
          "output_type": "execute_result",
          "data": {
            "text/plain": [
              "                                          reviewText  overall\n",
              "0  The materials arrived early and were in excell...        4\n",
              "1  I am really enjoying this book with the worksh...        4\n",
              "2  IF YOU ARE TAKING THIS CLASS DON\"T WASTE YOUR ...        1\n",
              "3  This book was missing pages!!! Important pages...        3\n",
              "4  I have used LearnSmart and can officially say ...        5"
            ],
            "text/html": [
              "\n",
              "  <div id=\"df-67f20514-1d80-49d1-82ad-336b6ef76e5b\">\n",
              "    <div class=\"colab-df-container\">\n",
              "      <div>\n",
              "<style scoped>\n",
              "    .dataframe tbody tr th:only-of-type {\n",
              "        vertical-align: middle;\n",
              "    }\n",
              "\n",
              "    .dataframe tbody tr th {\n",
              "        vertical-align: top;\n",
              "    }\n",
              "\n",
              "    .dataframe thead th {\n",
              "        text-align: right;\n",
              "    }\n",
              "</style>\n",
              "<table border=\"1\" class=\"dataframe\">\n",
              "  <thead>\n",
              "    <tr style=\"text-align: right;\">\n",
              "      <th></th>\n",
              "      <th>reviewText</th>\n",
              "      <th>overall</th>\n",
              "    </tr>\n",
              "  </thead>\n",
              "  <tbody>\n",
              "    <tr>\n",
              "      <th>0</th>\n",
              "      <td>The materials arrived early and were in excell...</td>\n",
              "      <td>4</td>\n",
              "    </tr>\n",
              "    <tr>\n",
              "      <th>1</th>\n",
              "      <td>I am really enjoying this book with the worksh...</td>\n",
              "      <td>4</td>\n",
              "    </tr>\n",
              "    <tr>\n",
              "      <th>2</th>\n",
              "      <td>IF YOU ARE TAKING THIS CLASS DON\"T WASTE YOUR ...</td>\n",
              "      <td>1</td>\n",
              "    </tr>\n",
              "    <tr>\n",
              "      <th>3</th>\n",
              "      <td>This book was missing pages!!! Important pages...</td>\n",
              "      <td>3</td>\n",
              "    </tr>\n",
              "    <tr>\n",
              "      <th>4</th>\n",
              "      <td>I have used LearnSmart and can officially say ...</td>\n",
              "      <td>5</td>\n",
              "    </tr>\n",
              "  </tbody>\n",
              "</table>\n",
              "</div>\n",
              "      <button class=\"colab-df-convert\" onclick=\"convertToInteractive('df-67f20514-1d80-49d1-82ad-336b6ef76e5b')\"\n",
              "              title=\"Convert this dataframe to an interactive table.\"\n",
              "              style=\"display:none;\">\n",
              "        \n",
              "  <svg xmlns=\"http://www.w3.org/2000/svg\" height=\"24px\"viewBox=\"0 0 24 24\"\n",
              "       width=\"24px\">\n",
              "    <path d=\"M0 0h24v24H0V0z\" fill=\"none\"/>\n",
              "    <path d=\"M18.56 5.44l.94 2.06.94-2.06 2.06-.94-2.06-.94-.94-2.06-.94 2.06-2.06.94zm-11 1L8.5 8.5l.94-2.06 2.06-.94-2.06-.94L8.5 2.5l-.94 2.06-2.06.94zm10 10l.94 2.06.94-2.06 2.06-.94-2.06-.94-.94-2.06-.94 2.06-2.06.94z\"/><path d=\"M17.41 7.96l-1.37-1.37c-.4-.4-.92-.59-1.43-.59-.52 0-1.04.2-1.43.59L10.3 9.45l-7.72 7.72c-.78.78-.78 2.05 0 2.83L4 21.41c.39.39.9.59 1.41.59.51 0 1.02-.2 1.41-.59l7.78-7.78 2.81-2.81c.8-.78.8-2.07 0-2.86zM5.41 20L4 18.59l7.72-7.72 1.47 1.35L5.41 20z\"/>\n",
              "  </svg>\n",
              "      </button>\n",
              "      \n",
              "  <style>\n",
              "    .colab-df-container {\n",
              "      display:flex;\n",
              "      flex-wrap:wrap;\n",
              "      gap: 12px;\n",
              "    }\n",
              "\n",
              "    .colab-df-convert {\n",
              "      background-color: #E8F0FE;\n",
              "      border: none;\n",
              "      border-radius: 50%;\n",
              "      cursor: pointer;\n",
              "      display: none;\n",
              "      fill: #1967D2;\n",
              "      height: 32px;\n",
              "      padding: 0 0 0 0;\n",
              "      width: 32px;\n",
              "    }\n",
              "\n",
              "    .colab-df-convert:hover {\n",
              "      background-color: #E2EBFA;\n",
              "      box-shadow: 0px 1px 2px rgba(60, 64, 67, 0.3), 0px 1px 3px 1px rgba(60, 64, 67, 0.15);\n",
              "      fill: #174EA6;\n",
              "    }\n",
              "\n",
              "    [theme=dark] .colab-df-convert {\n",
              "      background-color: #3B4455;\n",
              "      fill: #D2E3FC;\n",
              "    }\n",
              "\n",
              "    [theme=dark] .colab-df-convert:hover {\n",
              "      background-color: #434B5C;\n",
              "      box-shadow: 0px 1px 3px 1px rgba(0, 0, 0, 0.15);\n",
              "      filter: drop-shadow(0px 1px 2px rgba(0, 0, 0, 0.3));\n",
              "      fill: #FFFFFF;\n",
              "    }\n",
              "  </style>\n",
              "\n",
              "      <script>\n",
              "        const buttonEl =\n",
              "          document.querySelector('#df-67f20514-1d80-49d1-82ad-336b6ef76e5b button.colab-df-convert');\n",
              "        buttonEl.style.display =\n",
              "          google.colab.kernel.accessAllowed ? 'block' : 'none';\n",
              "\n",
              "        async function convertToInteractive(key) {\n",
              "          const element = document.querySelector('#df-67f20514-1d80-49d1-82ad-336b6ef76e5b');\n",
              "          const dataTable =\n",
              "            await google.colab.kernel.invokeFunction('convertToInteractive',\n",
              "                                                     [key], {});\n",
              "          if (!dataTable) return;\n",
              "\n",
              "          const docLinkHtml = 'Like what you see? Visit the ' +\n",
              "            '<a target=\"_blank\" href=https://colab.research.google.com/notebooks/data_table.ipynb>data table notebook</a>'\n",
              "            + ' to learn more about interactive tables.';\n",
              "          element.innerHTML = '';\n",
              "          dataTable['output_type'] = 'display_data';\n",
              "          await google.colab.output.renderOutput(dataTable, element);\n",
              "          const docLink = document.createElement('div');\n",
              "          docLink.innerHTML = docLinkHtml;\n",
              "          element.appendChild(docLink);\n",
              "        }\n",
              "      </script>\n",
              "    </div>\n",
              "  </div>\n",
              "  "
            ]
          },
          "metadata": {},
          "execution_count": 146
        }
      ],
      "source": [
        "# Xoá các hàng có missing value\n",
        "df1=df.dropna()\n",
        "df1.head()"
      ]
    },
    {
      "cell_type": "code",
      "execution_count": null,
      "metadata": {
        "id": "hn25s3rzc6nI",
        "colab": {
          "base_uri": "https://localhost:8080/"
        },
        "outputId": "af261662-93ae-4de5-f456-6a1dca4c5645"
      },
      "outputs": [
        {
          "output_type": "stream",
          "name": "stdout",
          "text": [
            "{'you', \"isn't\", 'we', 'whom', 'by', 'weren', \"couldn't\", 'there', 'when', \"mustn't\", 'theirs', 'about', \"wasn't\", 'will', 'o', 'her', 'doing', 'above', 'than', 'ma', 'having', 'and', 'through', 'mightn', \"it's\", 'how', 'or', 'during', 'for', 'an', 'your', 'off', 'now', 't', 'i', 'both', \"shan't\", 'wasn', 'up', 'here', 'into', \"doesn't\", 's', 'yours', 'further', 'll', 'isn', 'that', 'myself', 'themselves', 'too', \"you'll\", 'should', 'of', 'won', 'under', 'am', 'mustn', 'any', 'can', 'such', \"shouldn't\", 'but', 'where', 'couldn', \"should've\", 'these', 'from', 'in', 'other', 'wouldn', 'yourself', 'while', \"wouldn't\", 'is', 'they', 'y', 'me', 'very', \"you've\", \"hadn't\", \"needn't\", 'being', 've', 'didn', 'more', \"mightn't\", 'once', 'shouldn', 'as', 'did', 'their', 'only', 'haven', 'them', 'him', \"won't\", 'been', \"she's\", 'he', 'no', 'does', 'the', 'before', 'so', \"that'll\", 'over', \"hasn't\", 'who', 'hers', 'against', 'just', 'own', 'do', 'ain', 'shan', 'with', 'why', 'below', 'this', 'between', 'which', 'aren', 'was', 'most', 'again', 'same', 'are', 'hasn', 'hadn', 'she', 'after', \"aren't\", \"don't\", \"didn't\", 'what', 'has', 'herself', 'few', 'ourselves', 'itself', 'on', 're', \"haven't\", 'd', 'yourselves', 'if', \"you'd\", \"you're\", \"weren't\", 'himself', 'at', 'each', 'doesn', 'be', 'not', 'it', 'were', 'my', 'nor', 'to', 'his', 'out', 'its', 'had', 'down', 'our', 'because', 'some', 'needn', 'ours', 'those', 'a', 'then', 'until', 'all', 'don', 'm', 'have'}\n"
          ]
        }
      ],
      "source": [
        "stop_words= set(stopwords.words('english'))\n",
        "print(stop_words)"
      ]
    },
    {
      "cell_type": "markdown",
      "source": [
        "#### Hàm làm sạch text:\n",
        "+ Chuyển về ký tự thường\n",
        "+ Loại bỏ các ký tự dấu câu\n",
        "+ Loại bỏ các ký tự không phải chữ\n",
        "+ Loại bỏ các ký tự, chữ cái đứng 1 mình\n",
        "+ Loại bỏ các từ stopword\n",
        "+ Đưa các từ trong text về dạng từ gốc"
      ],
      "metadata": {
        "id": "bFuSlUnE8t4a"
      }
    },
    {
      "cell_type": "code",
      "execution_count": null,
      "metadata": {
        "id": "Rp-jJTzDc7gZ"
      },
      "outputs": [],
      "source": [
        "import string\n",
        "from nltk.stem import WordNetLemmatizer\n",
        "lemmatizer= WordNetLemmatizer()\n",
        "def clean_text(review):\n",
        "    review= str(review).lower() #chuyển tất cả về chữ thường\n",
        "    review= review.split()\n",
        "    table= str.maketrans('','', string.punctuation) # loại bỏ dấu câu\n",
        "    review= [w.translate(table) for w in review]\n",
        "    review= [word for word in review if word.isalpha()] # loại bỏ các ký tự không phải chữ cái\n",
        "    review=[w for w  in review if not w in stop_words] # Loại bỏ các stop word\n",
        "    review= [word for word in review if len(word)>1] # loại bỏ ký tự đứng 1 mình\n",
        "    review= [lemmatizer.lemmatize(w) for w in review]\n",
        "    return review"
      ]
    },
    {
      "cell_type": "code",
      "execution_count": null,
      "metadata": {
        "id": "f_CRc_o9c8pC",
        "colab": {
          "base_uri": "https://localhost:8080/"
        },
        "outputId": "07c90c3b-dc50-4715-c08d-b976faa46b3e"
      },
      "outputs": [
        {
          "output_type": "stream",
          "name": "stderr",
          "text": [
            "/usr/local/lib/python3.7/dist-packages/ipykernel_launcher.py:1: SettingWithCopyWarning: \n",
            "A value is trying to be set on a copy of a slice from a DataFrame.\n",
            "Try using .loc[row_indexer,col_indexer] = value instead\n",
            "\n",
            "See the caveats in the documentation: https://pandas.pydata.org/pandas-docs/stable/user_guide/indexing.html#returning-a-view-versus-a-copy\n",
            "  \"\"\"Entry point for launching an IPython kernel.\n"
          ]
        }
      ],
      "source": [
        "df1['review']= df1['reviewText'].apply(clean_text)"
      ]
    },
    {
      "cell_type": "code",
      "source": [
        "df1['review']= df1['review'].apply(lambda x:' '.join(i for i in x))"
      ],
      "metadata": {
        "colab": {
          "base_uri": "https://localhost:8080/"
        },
        "id": "uKtV5_XKoruS",
        "outputId": "e16ac992-4015-4d43-cbcb-dc956361048a"
      },
      "execution_count": null,
      "outputs": [
        {
          "output_type": "stream",
          "name": "stderr",
          "text": [
            "/usr/local/lib/python3.7/dist-packages/ipykernel_launcher.py:1: SettingWithCopyWarning: \n",
            "A value is trying to be set on a copy of a slice from a DataFrame.\n",
            "Try using .loc[row_indexer,col_indexer] = value instead\n",
            "\n",
            "See the caveats in the documentation: https://pandas.pydata.org/pandas-docs/stable/user_guide/indexing.html#returning-a-view-versus-a-copy\n",
            "  \"\"\"Entry point for launching an IPython kernel.\n"
          ]
        }
      ]
    },
    {
      "cell_type": "code",
      "execution_count": null,
      "metadata": {
        "id": "LLP2Hdmbc9w-",
        "colab": {
          "base_uri": "https://localhost:8080/",
          "height": 337
        },
        "outputId": "6e776225-c20e-4ad3-aa52-5780510c677e"
      },
      "outputs": [
        {
          "output_type": "execute_result",
          "data": {
            "text/plain": [
              "                                          reviewText  overall  \\\n",
              "0  The materials arrived early and were in excell...        4   \n",
              "1  I am really enjoying this book with the worksh...        4   \n",
              "2  IF YOU ARE TAKING THIS CLASS DON\"T WASTE YOUR ...        1   \n",
              "3  This book was missing pages!!! Important pages...        3   \n",
              "4  I have used LearnSmart and can officially say ...        5   \n",
              "\n",
              "                                              review  \n",
              "0  material arrived early excellent condition how...  \n",
              "1  really enjoying book worksheet make review goa...  \n",
              "2  taking class dont waste money called book book...  \n",
              "3  book missing page important page couldnt answe...  \n",
              "4  used learnsmart officially say amazing study t...  "
            ],
            "text/html": [
              "\n",
              "  <div id=\"df-24578362-0c69-4b05-8afb-71524dc3920e\">\n",
              "    <div class=\"colab-df-container\">\n",
              "      <div>\n",
              "<style scoped>\n",
              "    .dataframe tbody tr th:only-of-type {\n",
              "        vertical-align: middle;\n",
              "    }\n",
              "\n",
              "    .dataframe tbody tr th {\n",
              "        vertical-align: top;\n",
              "    }\n",
              "\n",
              "    .dataframe thead th {\n",
              "        text-align: right;\n",
              "    }\n",
              "</style>\n",
              "<table border=\"1\" class=\"dataframe\">\n",
              "  <thead>\n",
              "    <tr style=\"text-align: right;\">\n",
              "      <th></th>\n",
              "      <th>reviewText</th>\n",
              "      <th>overall</th>\n",
              "      <th>review</th>\n",
              "    </tr>\n",
              "  </thead>\n",
              "  <tbody>\n",
              "    <tr>\n",
              "      <th>0</th>\n",
              "      <td>The materials arrived early and were in excell...</td>\n",
              "      <td>4</td>\n",
              "      <td>material arrived early excellent condition how...</td>\n",
              "    </tr>\n",
              "    <tr>\n",
              "      <th>1</th>\n",
              "      <td>I am really enjoying this book with the worksh...</td>\n",
              "      <td>4</td>\n",
              "      <td>really enjoying book worksheet make review goa...</td>\n",
              "    </tr>\n",
              "    <tr>\n",
              "      <th>2</th>\n",
              "      <td>IF YOU ARE TAKING THIS CLASS DON\"T WASTE YOUR ...</td>\n",
              "      <td>1</td>\n",
              "      <td>taking class dont waste money called book book...</td>\n",
              "    </tr>\n",
              "    <tr>\n",
              "      <th>3</th>\n",
              "      <td>This book was missing pages!!! Important pages...</td>\n",
              "      <td>3</td>\n",
              "      <td>book missing page important page couldnt answe...</td>\n",
              "    </tr>\n",
              "    <tr>\n",
              "      <th>4</th>\n",
              "      <td>I have used LearnSmart and can officially say ...</td>\n",
              "      <td>5</td>\n",
              "      <td>used learnsmart officially say amazing study t...</td>\n",
              "    </tr>\n",
              "  </tbody>\n",
              "</table>\n",
              "</div>\n",
              "      <button class=\"colab-df-convert\" onclick=\"convertToInteractive('df-24578362-0c69-4b05-8afb-71524dc3920e')\"\n",
              "              title=\"Convert this dataframe to an interactive table.\"\n",
              "              style=\"display:none;\">\n",
              "        \n",
              "  <svg xmlns=\"http://www.w3.org/2000/svg\" height=\"24px\"viewBox=\"0 0 24 24\"\n",
              "       width=\"24px\">\n",
              "    <path d=\"M0 0h24v24H0V0z\" fill=\"none\"/>\n",
              "    <path d=\"M18.56 5.44l.94 2.06.94-2.06 2.06-.94-2.06-.94-.94-2.06-.94 2.06-2.06.94zm-11 1L8.5 8.5l.94-2.06 2.06-.94-2.06-.94L8.5 2.5l-.94 2.06-2.06.94zm10 10l.94 2.06.94-2.06 2.06-.94-2.06-.94-.94-2.06-.94 2.06-2.06.94z\"/><path d=\"M17.41 7.96l-1.37-1.37c-.4-.4-.92-.59-1.43-.59-.52 0-1.04.2-1.43.59L10.3 9.45l-7.72 7.72c-.78.78-.78 2.05 0 2.83L4 21.41c.39.39.9.59 1.41.59.51 0 1.02-.2 1.41-.59l7.78-7.78 2.81-2.81c.8-.78.8-2.07 0-2.86zM5.41 20L4 18.59l7.72-7.72 1.47 1.35L5.41 20z\"/>\n",
              "  </svg>\n",
              "      </button>\n",
              "      \n",
              "  <style>\n",
              "    .colab-df-container {\n",
              "      display:flex;\n",
              "      flex-wrap:wrap;\n",
              "      gap: 12px;\n",
              "    }\n",
              "\n",
              "    .colab-df-convert {\n",
              "      background-color: #E8F0FE;\n",
              "      border: none;\n",
              "      border-radius: 50%;\n",
              "      cursor: pointer;\n",
              "      display: none;\n",
              "      fill: #1967D2;\n",
              "      height: 32px;\n",
              "      padding: 0 0 0 0;\n",
              "      width: 32px;\n",
              "    }\n",
              "\n",
              "    .colab-df-convert:hover {\n",
              "      background-color: #E2EBFA;\n",
              "      box-shadow: 0px 1px 2px rgba(60, 64, 67, 0.3), 0px 1px 3px 1px rgba(60, 64, 67, 0.15);\n",
              "      fill: #174EA6;\n",
              "    }\n",
              "\n",
              "    [theme=dark] .colab-df-convert {\n",
              "      background-color: #3B4455;\n",
              "      fill: #D2E3FC;\n",
              "    }\n",
              "\n",
              "    [theme=dark] .colab-df-convert:hover {\n",
              "      background-color: #434B5C;\n",
              "      box-shadow: 0px 1px 3px 1px rgba(0, 0, 0, 0.15);\n",
              "      filter: drop-shadow(0px 1px 2px rgba(0, 0, 0, 0.3));\n",
              "      fill: #FFFFFF;\n",
              "    }\n",
              "  </style>\n",
              "\n",
              "      <script>\n",
              "        const buttonEl =\n",
              "          document.querySelector('#df-24578362-0c69-4b05-8afb-71524dc3920e button.colab-df-convert');\n",
              "        buttonEl.style.display =\n",
              "          google.colab.kernel.accessAllowed ? 'block' : 'none';\n",
              "\n",
              "        async function convertToInteractive(key) {\n",
              "          const element = document.querySelector('#df-24578362-0c69-4b05-8afb-71524dc3920e');\n",
              "          const dataTable =\n",
              "            await google.colab.kernel.invokeFunction('convertToInteractive',\n",
              "                                                     [key], {});\n",
              "          if (!dataTable) return;\n",
              "\n",
              "          const docLinkHtml = 'Like what you see? Visit the ' +\n",
              "            '<a target=\"_blank\" href=https://colab.research.google.com/notebooks/data_table.ipynb>data table notebook</a>'\n",
              "            + ' to learn more about interactive tables.';\n",
              "          element.innerHTML = '';\n",
              "          dataTable['output_type'] = 'display_data';\n",
              "          await google.colab.output.renderOutput(dataTable, element);\n",
              "          const docLink = document.createElement('div');\n",
              "          docLink.innerHTML = docLinkHtml;\n",
              "          element.appendChild(docLink);\n",
              "        }\n",
              "      </script>\n",
              "    </div>\n",
              "  </div>\n",
              "  "
            ]
          },
          "metadata": {},
          "execution_count": 151
        }
      ],
      "source": [
        "df1.head()"
      ]
    },
    {
      "cell_type": "code",
      "source": [
        "txt= ' '.join(review for review in df1['review'])\n",
        "wordcloud= WordCloud(background_color= 'white', max_font_size= 100, \n",
        "                     max_words= 100, width= 800, height= 500).generate(txt)\n",
        "plt.imshow(wordcloud, interpolation= 'bilinear')\n",
        "plt.axis"
      ],
      "metadata": {
        "colab": {
          "base_uri": "https://localhost:8080/",
          "height": 240
        },
        "id": "mpC1TADLoPR6",
        "outputId": "2116a935-d267-4bac-a46b-1f68c9ef7ed1"
      },
      "execution_count": null,
      "outputs": [
        {
          "output_type": "display_data",
          "data": {
            "text/plain": [
              "<Figure size 432x288 with 1 Axes>"
            ],
            "image/png": "[encoded data removed]"
          },
          "metadata": {
            "needs_background": "light"
          }
        }
      ]
    },
    {
      "cell_type": "code",
      "source": [
        "review.info()"
      ],
      "metadata": {
        "colab": {
          "base_uri": "https://localhost:8080/"
        },
        "id": "JDcg-vSO0RIQ",
        "outputId": "37160e68-6aee-408b-d705-85b6d556f480"
      },
      "execution_count": null,
      "outputs": [
        {
          "output_type": "stream",
          "name": "stdout",
          "text": [
            "<class 'pandas.core.frame.DataFrame'>\n",
            "RangeIndex: 459436 entries, 0 to 459435\n",
            "Data columns (total 13 columns):\n",
            " #   Column          Non-Null Count   Dtype  \n",
            "---  ------          --------------   -----  \n",
            " 0   overall         459436 non-null  int64  \n",
            " 1   verified        459436 non-null  bool   \n",
            " 2   reviewTime      459436 non-null  object \n",
            " 3   reviewerID      459436 non-null  object \n",
            " 4   asin            459436 non-null  object \n",
            " 5   style           234401 non-null  object \n",
            " 6   reviewerName    459412 non-null  object \n",
            " 7   reviewText      459370 non-null  object \n",
            " 8   summary         459380 non-null  object \n",
            " 9   unixReviewTime  459436 non-null  int64  \n",
            " 10  vote            127853 non-null  object \n",
            " 11  image           1508 non-null    object \n",
            " 12  rating_count    0 non-null       float64\n",
            "dtypes: bool(1), float64(1), int64(2), object(9)\n",
            "memory usage: 42.5+ MB\n"
          ]
        }
      ]
    },
    {
      "cell_type": "code",
      "source": [
        "rating_count= review.groupby(by='asin').agg({'overall':'count'})\n",
        "rating_count.rename(columns= {'overall':'numReview'}, inplace= True)"
      ],
      "metadata": {
        "id": "epqlLUPY4vI-"
      },
      "execution_count": null,
      "outputs": []
    },
    {
      "cell_type": "code",
      "source": [
        "popular_product= rating_count.sort_values('numReview',ascending= False)\n",
        "popular_product.head(20).plot(kind=\"bar\", figsize= (12,4))"
      ],
      "metadata": {
        "colab": {
          "base_uri": "https://localhost:8080/",
          "height": 326
        },
        "id": "byfTd47Ku025",
        "outputId": "885beb92-401e-4807-cdac-377c3cbe4cd6"
      },
      "execution_count": null,
      "outputs": [
        {
          "output_type": "execute_result",
          "data": {
            "text/plain": [
              "<matplotlib.axes._subplots.AxesSubplot at 0x7efb7a2f2850>"
            ]
          },
          "metadata": {},
          "execution_count": 211
        },
        {
          "output_type": "display_data",
          "data": {
            "text/plain": [
              "<Figure size 864x288 with 1 Axes>"
            ],
            "image/png": "[encoded data removed]"
          },
          "metadata": {
            "needs_background": "light"
          }
        }
      ]
    },
    {
      "cell_type": "markdown",
      "source": [
        "###Predict overall based on review text"
      ],
      "metadata": {
        "id": "NB6N9tZriZAw"
      }
    },
    {
      "cell_type": "markdown",
      "source": [
        "#### Chia tập dữ liệu thành tập train và test"
      ],
      "metadata": {
        "id": "y7cNgCqAigZt"
      }
    },
    {
      "cell_type": "code",
      "execution_count": null,
      "metadata": {
        "id": "BWkv5KZ7c-69"
      },
      "outputs": [],
      "source": [
        "X=df1['review']\n",
        "y= df1['overall']\n",
        "X_train, X_test, y_train, y_test= train_test_split(X, y, test_size= 0.2, random_state=42)"
      ]
    },
    {
      "cell_type": "markdown",
      "source": [
        "#### Chuẩn hoá các review thành các vector có độ dài d là độ dài của bag of words"
      ],
      "metadata": {
        "id": "vb7UomIxiyvg"
      }
    },
    {
      "cell_type": "code",
      "source": [
        "from sklearn.feature_extraction.text import CountVectorizer\n",
        "vectorizer= CountVectorizer()\n",
        "vectorizer.fit(X_train)\n",
        "X_train1= vectorizer.transform(X_train)"
      ],
      "metadata": {
        "id": "NF_VJv9jnq5P"
      },
      "execution_count": null,
      "outputs": []
    },
    {
      "cell_type": "code",
      "source": [
        "from sklearn.feature_extraction.text import TfidfTransformer\n",
        "\n",
        "tfidf_transformer= TfidfTransformer()\n",
        "tfidf_transformer.fit(X_train1)\n",
        "tfidf_transformer.transform(X_train1)"
      ],
      "metadata": {
        "colab": {
          "base_uri": "https://localhost:8080/"
        },
        "id": "sz9LwmzfgVHO",
        "outputId": "e9ab102e-9dd8-4e07-fed9-3cd8f2415f6c"
      },
      "execution_count": null,
      "outputs": [
        {
          "output_type": "execute_result",
          "data": {
            "text/plain": [
              "<367496x155941 sparse matrix of type '<class 'numpy.float64'>'\n",
              "\twith 11372478 stored elements in Compressed Sparse Row format>"
            ]
          },
          "metadata": {},
          "execution_count": 155
        }
      ]
    },
    {
      "cell_type": "code",
      "source": [
        "X_test= vectorizer.transform(X_test)"
      ],
      "metadata": {
        "id": "CHVRK61Tesr-"
      },
      "execution_count": null,
      "outputs": []
    },
    {
      "cell_type": "markdown",
      "source": [
        "#### Sử dụng mô hình Multinomial Naivie Bayes dự đoán"
      ],
      "metadata": {
        "id": "jVgxakGVK_w9"
      }
    },
    {
      "cell_type": "code",
      "source": [
        "from sklearn.naive_bayes import MultinomialNB\n",
        "NB= MultinomialNB()\n",
        "NB.fit(X_train1, y_train)"
      ],
      "metadata": {
        "colab": {
          "base_uri": "https://localhost:8080/"
        },
        "id": "h5TWJvT2e4Dg",
        "outputId": "80994169-fbc7-484c-e4f6-a1e54438050d"
      },
      "execution_count": null,
      "outputs": [
        {
          "output_type": "execute_result",
          "data": {
            "text/plain": [
              "MultinomialNB()"
            ]
          },
          "metadata": {},
          "execution_count": 156
        }
      ]
    },
    {
      "cell_type": "code",
      "source": [
        "pred= NB.predict(X_test)"
      ],
      "metadata": {
        "id": "co5_BxHNhA2V"
      },
      "execution_count": null,
      "outputs": []
    },
    {
      "cell_type": "code",
      "source": [
        "pred"
      ],
      "metadata": {
        "colab": {
          "base_uri": "https://localhost:8080/"
        },
        "id": "vd3KE4oxhFSR",
        "outputId": "d483281e-3210-400f-f4d0-7f445e4c0eaa"
      },
      "execution_count": null,
      "outputs": [
        {
          "output_type": "execute_result",
          "data": {
            "text/plain": [
              "array([5, 1, 5, ..., 1, 5, 4])"
            ]
          },
          "metadata": {},
          "execution_count": 158
        }
      ]
    },
    {
      "cell_type": "code",
      "source": [
        "print(classification_report(y_test, pred))"
      ],
      "metadata": {
        "colab": {
          "base_uri": "https://localhost:8080/"
        },
        "id": "61OODq8_iQwi",
        "outputId": "645ad43f-bfcf-460c-d48e-4809f6a6a091"
      },
      "execution_count": null,
      "outputs": [
        {
          "output_type": "stream",
          "name": "stdout",
          "text": [
            "              precision    recall  f1-score   support\n",
            "\n",
            "           1       0.61      0.80      0.69     20326\n",
            "           2       0.25      0.03      0.06      6232\n",
            "           3       0.32      0.08      0.13      7891\n",
            "           4       0.38      0.21      0.27     14585\n",
            "           5       0.70      0.88      0.78     42840\n",
            "\n",
            "    accuracy                           0.63     91874\n",
            "   macro avg       0.45      0.40      0.38     91874\n",
            "weighted avg       0.56      0.63      0.57     91874\n",
            "\n"
          ]
        }
      ]
    },
    {
      "cell_type": "code",
      "source": [
        "print(confusion_matrix(y_test, pred))"
      ],
      "metadata": {
        "colab": {
          "base_uri": "https://localhost:8080/"
        },
        "id": "R2nB7RR7iook",
        "outputId": "521c87f3-a31a-4a63-f313-02f66ed43e44"
      },
      "execution_count": null,
      "outputs": [
        {
          "output_type": "stream",
          "name": "stdout",
          "text": [
            "[[16283   288   434   624  2697]\n",
            " [ 3327   195   381   744  1585]\n",
            " [ 2598   145   644  1499  3005]\n",
            " [ 1922    98   362  3014  9189]\n",
            " [ 2714    46   164  2032 37884]]\n"
          ]
        }
      ]
    }
  ],
  "metadata": {
    "colab": {
      "name": "Sentiment- analysis.ipynb",
      "provenance": [],
      "collapsed_sections": []
    },
    "kernelspec": {
      "display_name": "Python 3",
      "name": "python3"
    },
    "language_info": {
      "name": "python"
    }
  },
  "nbformat": 4,
  "nbformat_minor": 0
}